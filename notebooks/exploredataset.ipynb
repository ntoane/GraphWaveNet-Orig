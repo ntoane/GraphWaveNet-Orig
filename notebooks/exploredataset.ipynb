{
 "cells": [
  {
   "cell_type": "code",
   "execution_count": 42,
   "metadata": {},
   "outputs": [],
   "source": [
    "import pandas as pd\n",
    "import h5py\n",
    "import numpy as np\n",
    "import os.path"
   ]
  },
  {
   "cell_type": "code",
   "execution_count": 43,
   "metadata": {},
   "outputs": [],
   "source": [
    "#h5 file path\n",
    "filename1 = '../data/metr-la.h5'\n",
    "filename2 = '../data/pems-bay.h5'\n",
    "\n",
    "#read h5 file\n",
    "metrla_dataset = h5py.File(filename1, 'r')\n",
    "pemsbay_dataset = h5py.File(filename2, 'r')"
   ]
  },
  {
   "cell_type": "code",
   "execution_count": 44,
   "metadata": {},
   "outputs": [
    {
     "name": "stdout",
     "output_type": "stream",
     "text": [
      "<KeysViewHDF5 ['df']>\n"
     ]
    }
   ],
   "source": [
    "#print the first unknown key in the h5 file\n",
    "print(metrla_dataset.keys()) #returns df"
   ]
  },
  {
   "cell_type": "code",
   "execution_count": 45,
   "metadata": {},
   "outputs": [],
   "source": [
    "#save the h5 file to csv using the first key df\n",
    "with pd.HDFStore(filename1, 'r') as d:\n",
    "    metrla_df = d.get('df')\n",
    "    metrla_df.to_csv('metr-la.csv')"
   ]
  },
  {
   "attachments": {},
   "cell_type": "markdown",
   "metadata": {},
   "source": [
    "#### Description of METR-LA dataset\n",
    "##### Url: https://towardsdatascience.com/build-your-first-graph-neural-network-model-to-predict-traffic-speed-in-20-minutes-b593f8f838e5\n",
    "\n",
    "The file metr-la.h5 contains an array of shape [34272, 207], where 34272 is total number of time steps, and 207 is number of sensors. The array contains only speed data, meaning that the GNN model uses the historical speed to predict future speed. No other features (road type, weather, holidays) are involved. The speed was recorded every 5 mins with sensors. The 207 sensors are distributed on roads within the area. Speed was collected every 5 mins. So one day should have 24*(60/5)=288 records. So the data of one day is simply an array of shape [288, 207], where 288 is total time steps, and 207 is number of sensors. Since the data was collected across 4 months, there are a total number of 34272 time steps after optional data cleaning. Here below is the first 5 rows. The headers are ids of sensors and the values of content are speed."
   ]
  },
  {
   "cell_type": "code",
   "execution_count": 46,
   "metadata": {},
   "outputs": [],
   "source": [
    "# Load npz train file\n",
    "metrla_train_npz = np.load(os.path.join('../data/METR-LA/train.npz'))"
   ]
  },
  {
   "cell_type": "code",
   "execution_count": 47,
   "metadata": {},
   "outputs": [
    {
     "data": {
      "text/plain": [
       "['x', 'y', 'x_offsets', 'y_offsets']"
      ]
     },
     "execution_count": 47,
     "metadata": {},
     "output_type": "execute_result"
    }
   ],
   "source": [
    "# obtain a list of all the constituent files\n",
    "metrla_train_npz.files"
   ]
  },
  {
   "cell_type": "code",
   "execution_count": 48,
   "metadata": {},
   "outputs": [
    {
     "name": "stdout",
     "output_type": "stream",
     "text": [
      "x_train shape: (23974, 12, 207, 2)\n",
      "y_train shape: (23974, 12, 207, 2)\n",
      "x_offsets shape: (12, 1)\n",
      "y_offsets shape: (12, 1)\n"
     ]
    }
   ],
   "source": [
    "# Access the arrays inside the npz file.\n",
    "x_train = metrla_train_npz[\"x\"]\n",
    "y_train = metrla_train_npz[\"y\"]\n",
    "x_offsets = metrla_train_npz[\"x_offsets\"]\n",
    "y_offsets = metrla_train_npz[\"y_offsets\"]\n",
    "\n",
    "# Print the shape of the arrays.\n",
    "print(\"x_train shape:\", x_train.shape)\n",
    "print(\"y_train shape:\", y_train.shape)\n",
    "print(\"x_offsets shape:\", x_offsets.shape)\n",
    "print(\"y_offsets shape:\", y_offsets.shape)\n",
    "\n",
    "# x: (num_samples, input_length, num_nodes, input_dim)\n",
    "# y: (num_samples, output_length, num_nodes, output_dim)"
   ]
  },
  {
   "cell_type": "code",
   "execution_count": 49,
   "metadata": {},
   "outputs": [
    {
     "data": {
      "text/plain": [
       "array([[64.375,  0.   ],\n",
       "       [67.625,  0.   ],\n",
       "       [67.125,  0.   ],\n",
       "       [61.5  ,  0.   ],\n",
       "       [66.875,  0.   ]])"
      ]
     },
     "execution_count": 49,
     "metadata": {},
     "output_type": "execute_result"
    }
   ],
   "source": [
    "x_train[0][0][:5]"
   ]
  },
  {
   "cell_type": "code",
   "execution_count": 50,
   "metadata": {},
   "outputs": [
    {
     "data": {
      "text/plain": [
       "array([[6.26666667e+01, 3.47222222e-03],\n",
       "       [6.85555556e+01, 3.47222222e-03],\n",
       "       [6.54444444e+01, 3.47222222e-03],\n",
       "       [6.24444444e+01, 3.47222222e-03],\n",
       "       [6.44444444e+01, 3.47222222e-03]])"
      ]
     },
     "execution_count": 50,
     "metadata": {},
     "output_type": "execute_result"
    }
   ],
   "source": [
    "x_train[0][1][:5]"
   ]
  },
  {
   "cell_type": "code",
   "execution_count": 51,
   "metadata": {},
   "outputs": [
    {
     "data": {
      "text/plain": [
       "array([[[[6.43750000e+01, 0.00000000e+00],\n",
       "         [6.76250000e+01, 0.00000000e+00],\n",
       "         [6.71250000e+01, 0.00000000e+00],\n",
       "         ...,\n",
       "         [5.92500000e+01, 0.00000000e+00],\n",
       "         [6.90000000e+01, 0.00000000e+00],\n",
       "         [6.18750000e+01, 0.00000000e+00]],\n",
       "\n",
       "        [[6.26666667e+01, 3.47222222e-03],\n",
       "         [6.85555556e+01, 3.47222222e-03],\n",
       "         [6.54444444e+01, 3.47222222e-03],\n",
       "         ...,\n",
       "         [5.58888889e+01, 3.47222222e-03],\n",
       "         [6.84444444e+01, 3.47222222e-03],\n",
       "         [6.28750000e+01, 3.47222222e-03]],\n",
       "\n",
       "        [[6.40000000e+01, 6.94444444e-03],\n",
       "         [6.37500000e+01, 6.94444444e-03],\n",
       "         [6.00000000e+01, 6.94444444e-03],\n",
       "         ...,\n",
       "         [6.13750000e+01, 6.94444444e-03],\n",
       "         [6.98571429e+01, 6.94444444e-03],\n",
       "         [6.20000000e+01, 6.94444444e-03]],\n",
       "\n",
       "        ...,\n",
       "\n",
       "        [[6.35000000e+01, 3.12500000e-02],\n",
       "         [6.15000000e+01, 3.12500000e-02],\n",
       "         [6.25000000e+01, 3.12500000e-02],\n",
       "         ...,\n",
       "         [5.07500000e+01, 3.12500000e-02],\n",
       "         [6.62500000e+01, 3.12500000e-02],\n",
       "         [6.22500000e+01, 3.12500000e-02]],\n",
       "\n",
       "        [[6.52222222e+01, 3.47222222e-02],\n",
       "         [6.36666667e+01, 3.47222222e-02],\n",
       "         [6.51111111e+01, 3.47222222e-02],\n",
       "         ...,\n",
       "         [6.05555556e+01, 3.47222222e-02],\n",
       "         [6.72222222e+01, 3.47222222e-02],\n",
       "         [6.00000000e+01, 3.47222222e-02]],\n",
       "\n",
       "        [[6.22500000e+01, 3.81944444e-02],\n",
       "         [6.77500000e+01, 3.81944444e-02],\n",
       "         [6.68750000e+01, 3.81944444e-02],\n",
       "         ...,\n",
       "         [5.70000000e+01, 3.81944444e-02],\n",
       "         [6.65000000e+01, 3.81944444e-02],\n",
       "         [5.94285714e+01, 3.81944444e-02]]]])"
      ]
     },
     "execution_count": 51,
     "metadata": {},
     "output_type": "execute_result"
    }
   ],
   "source": [
    "x_train[:1]"
   ]
  },
  {
   "cell_type": "code",
   "execution_count": 52,
   "metadata": {},
   "outputs": [
    {
     "data": {
      "text/plain": [
       "array([[ 1],\n",
       "       [ 2],\n",
       "       [ 3],\n",
       "       [ 4],\n",
       "       [ 5],\n",
       "       [ 6],\n",
       "       [ 7],\n",
       "       [ 8],\n",
       "       [ 9],\n",
       "       [10],\n",
       "       [11],\n",
       "       [12]])"
      ]
     },
     "execution_count": 52,
     "metadata": {},
     "output_type": "execute_result"
    }
   ],
   "source": [
    "y_offsets"
   ]
  },
  {
   "cell_type": "code",
   "execution_count": 53,
   "metadata": {},
   "outputs": [],
   "source": [
    "import numpy as np\n",
    "x_offsets = np.sort(np.concatenate((np.arange(-(12 - 1), 1, 1),)))"
   ]
  },
  {
   "cell_type": "code",
   "execution_count": 54,
   "metadata": {},
   "outputs": [
    {
     "data": {
      "text/plain": [
       "array([-11, -10,  -9,  -8,  -7,  -6,  -5,  -4,  -3,  -2,  -1,   0])"
      ]
     },
     "execution_count": 54,
     "metadata": {},
     "output_type": "execute_result"
    }
   ],
   "source": [
    "x_offsets"
   ]
  },
  {
   "cell_type": "code",
   "execution_count": 55,
   "metadata": {},
   "outputs": [],
   "source": [
    "y = np.sort(np.arange(1, (12 + 1), 1))"
   ]
  },
  {
   "cell_type": "code",
   "execution_count": 56,
   "metadata": {},
   "outputs": [
    {
     "data": {
      "text/plain": [
       "array([ 1,  2,  3,  4,  5,  6,  7,  8,  9, 10, 11, 12])"
      ]
     },
     "execution_count": 56,
     "metadata": {},
     "output_type": "execute_result"
    }
   ],
   "source": [
    "y"
   ]
  },
  {
   "cell_type": "code",
   "execution_count": 57,
   "metadata": {},
   "outputs": [
    {
     "name": "stdout",
     "output_type": "stream",
     "text": [
      "torch.Size([3])\n",
      "torch.Size([1, 3])\n",
      "torch.Size([3, 1])\n"
     ]
    }
   ],
   "source": [
    "import torch\n",
    "\n",
    "x = torch.tensor([1, 2, 3])\n",
    "print(x.shape)  # Output: torch.Size([3])\n",
    "\n",
    "y = torch.unsqueeze(x, 0)\n",
    "print(y.shape)  # Output: torch.Size([1, 3])\n",
    "\n",
    "z = torch.unsqueeze(x, 1)\n",
    "print(z.shape)  # Output: torch.Size([3, 1])"
   ]
  },
  {
   "cell_type": "code",
   "execution_count": 58,
   "metadata": {},
   "outputs": [
    {
     "name": "stdout",
     "output_type": "stream",
     "text": [
      "torch.Size([3, 1])\n"
     ]
    }
   ],
   "source": [
    "p = torch.unsqueeze(x, -1)\n",
    "print(p.shape)"
   ]
  },
  {
   "cell_type": "code",
   "execution_count": 59,
   "metadata": {},
   "outputs": [
    {
     "data": {
      "text/plain": [
       "tensor([[1],\n",
       "        [2],\n",
       "        [3]])"
      ]
     },
     "execution_count": 59,
     "metadata": {},
     "output_type": "execute_result"
    }
   ],
   "source": [
    "p"
   ]
  },
  {
   "cell_type": "code",
   "execution_count": 64,
   "metadata": {},
   "outputs": [],
   "source": [
    "import sys\n",
    "sys.path.append('../')\n",
    "import util"
   ]
  },
  {
   "cell_type": "code",
   "execution_count": 65,
   "metadata": {},
   "outputs": [],
   "source": [
    "sensor_ids, sensor_id_to_ind, adj_mx = util.load_adj('../data/sensor_graph/adj_mx.pkl', 'doubletransition')"
   ]
  },
  {
   "cell_type": "code",
   "execution_count": 82,
   "metadata": {},
   "outputs": [
    {
     "data": {
      "text/plain": [
       "207"
      ]
     },
     "execution_count": 82,
     "metadata": {},
     "output_type": "execute_result"
    }
   ],
   "source": [
    "len(adj_mx[0])"
   ]
  },
  {
   "cell_type": "code",
   "execution_count": 86,
   "metadata": {},
   "outputs": [
    {
     "data": {
      "text/plain": [
       "['773869', '767541', '767542', '717447', '717446']"
      ]
     },
     "execution_count": 86,
     "metadata": {},
     "output_type": "execute_result"
    }
   ],
   "source": [
    "sensor_ids[:5]"
   ]
  },
  {
   "cell_type": "code",
   "execution_count": null,
   "metadata": {},
   "outputs": [],
   "source": []
  }
 ],
 "metadata": {
  "kernelspec": {
   "display_name": "virtualenv",
   "language": "python",
   "name": "python3"
  },
  "language_info": {
   "codemirror_mode": {
    "name": "ipython",
    "version": 3
   },
   "file_extension": ".py",
   "mimetype": "text/x-python",
   "name": "python",
   "nbconvert_exporter": "python",
   "pygments_lexer": "ipython3",
   "version": "3.6.7"
  },
  "orig_nbformat": 4
 },
 "nbformat": 4,
 "nbformat_minor": 2
}
